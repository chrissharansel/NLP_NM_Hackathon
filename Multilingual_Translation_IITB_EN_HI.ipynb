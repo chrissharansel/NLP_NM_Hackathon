{
 "cells": [
  {
   "cell_type": "markdown",
   "id": "9fc010fa",
   "metadata": {},
   "source": [
    "# 🇮🇳 Multilingual Translation: English–Hindi using Hugging Face Datasets\n",
    "This notebook demonstrates neural machine translation using 3 models: MarianMT, Seq2Seq demo, and mBART using the `cfilt/iitb-english-hindi` dataset."
   ]
  },
  {
   "cell_type": "code",
   "execution_count": null,
   "id": "c8c621a8",
   "metadata": {},
   "outputs": [],
   "source": [
    "\n",
    "# ✅ Install dependencies\n",
    "!pip install datasets transformers sentencepiece sacrebleu --quiet\n"
   ]
  },
  {
   "cell_type": "code",
   "execution_count": null,
   "id": "9951ba50",
   "metadata": {},
   "outputs": [],
   "source": [
    "\n",
    "# ✅ Load the IITB English–Hindi dataset\n",
    "from datasets import load_dataset\n",
    "ds = load_dataset(\"cfilt/iitb-english-hindi\")\n",
    "print(ds['train'][0])\n"
   ]
  },
  {
   "cell_type": "code",
   "execution_count": null,
   "id": "1d41f64d",
   "metadata": {},
   "outputs": [],
   "source": [
    "\n",
    "# ✅ Preprocessing\n",
    "from transformers import MarianTokenizer\n",
    "from sklearn.model_selection import train_test_split\n",
    "\n",
    "model_name = 'Helsinki-NLP/opus-mt-en-hi'\n",
    "tokenizer = MarianTokenizer.from_pretrained(model_name)\n",
    "\n",
    "train_data = ds['train']\n",
    "en_texts = [item['translation']['en'] for item in train_data]\n",
    "hi_texts = [item['translation']['hi'] for item in train_data]\n",
    "\n",
    "train_en, val_en, train_hi, val_hi = train_test_split(en_texts, hi_texts, test_size=0.1)\n",
    "\n",
    "def tokenize_marian(src_texts, tgt_texts):\n",
    "    return tokenizer.prepare_seq2seq_batch(src_texts, tgt_texts, return_tensors='pt', padding=True, truncation=True)\n",
    "\n",
    "val_inputs = tokenize_marian(val_en[:500], val_hi[:500])\n"
   ]
  },
  {
   "cell_type": "code",
   "execution_count": null,
   "id": "721f19f6",
   "metadata": {},
   "outputs": [],
   "source": [
    "\n",
    "# ✅ MarianMT Translation\n",
    "from transformers import MarianMTModel\n",
    "import torch\n",
    "from sacrebleu import corpus_bleu\n",
    "\n",
    "model = MarianMTModel.from_pretrained(model_name).to('cuda')\n",
    "translated = []\n",
    "model.eval()\n",
    "with torch.no_grad():\n",
    "    for i in range(0, len(val_en[:100]), 10):\n",
    "        batch = tokenizer(val_en[i:i+10], return_tensors=\"pt\", padding=True, truncation=True).to('cuda')\n",
    "        translated_tokens = model.generate(**batch)\n",
    "        translated += tokenizer.batch_decode(translated_tokens, skip_special_tokens=True)\n",
    "\n",
    "bleu_marian = corpus_bleu(translated, [val_hi[:100]])\n",
    "print(f\"BLEU (MarianMT): {bleu_marian.score:.2f}\")\n"
   ]
  },
  {
   "cell_type": "code",
   "execution_count": null,
   "id": "b646e2af",
   "metadata": {},
   "outputs": [],
   "source": [
    "\n",
    "# ✅ Seq2Seq RNN (BERT–BERT) demo loss\n",
    "from transformers import EncoderDecoderModel\n",
    "\n",
    "seq2seq_model = EncoderDecoderModel.from_encoder_decoder_pretrained(\"bert-base-uncased\", \"bert-base-multilingual-cased\")\n",
    "seq2seq_model.to('cuda')\n",
    "\n",
    "inputs = tokenizer(train_en[:100], return_tensors=\"pt\", padding=True, truncation=True).input_ids\n",
    "labels = tokenizer(train_hi[:100], return_tensors=\"pt\", padding=True, truncation=True).input_ids\n",
    "\n",
    "loss = seq2seq_model(input_ids=inputs.to('cuda'), labels=labels.to('cuda')).loss\n",
    "print(f\"Seq2Seq RNN Loss (sample): {loss.item():.4f}\")\n"
   ]
  },
  {
   "cell_type": "code",
   "execution_count": null,
   "id": "f93bc7e4",
   "metadata": {},
   "outputs": [],
   "source": [
    "\n",
    "# ✅ mBART Translation\n",
    "from transformers import MBartForConditionalGeneration, MBart50TokenizerFast\n",
    "\n",
    "mbart_model_name = \"facebook/mbart-large-50-many-to-many-mmt\"\n",
    "mbart_tokenizer = MBart50TokenizerFast.from_pretrained(mbart_model_name)\n",
    "mbart_model = MBartForConditionalGeneration.from_pretrained(mbart_model_name).to(\"cuda\")\n",
    "\n",
    "mbart_tokenizer.src_lang = \"en_XX\"\n",
    "mbart_tokenizer.tgt_lang = \"hi_IN\"\n",
    "\n",
    "batch = mbart_tokenizer(val_en[:100], return_tensors=\"pt\", padding=True, truncation=True).to(\"cuda\")\n",
    "generated_ids = mbart_model.generate(**batch, forced_bos_token_id=mbart_tokenizer.lang_code_to_id[\"hi_IN\"])\n",
    "mbart_translations = mbart_tokenizer.batch_decode(generated_ids, skip_special_tokens=True)\n",
    "\n",
    "from sacrebleu import corpus_bleu\n",
    "bleu_mbart = corpus_bleu(mbart_translations, [val_hi[:100]])\n",
    "print(f\"BLEU (mBART): {bleu_mbart.score:.2f}\")\n"
   ]
  },
  {
   "cell_type": "code",
   "execution_count": null,
   "id": "c25b9d42",
   "metadata": {},
   "outputs": [],
   "source": [
    "\n",
    "# ✅ Final Summary\n",
    "print(\"==== Final BLEU Scores ====\")\n",
    "print(f\"MarianMT BLEU: {bleu_marian.score:.2f}\")\n",
    "print(f\"mBART BLEU:    {bleu_mbart.score:.2f}\")\n",
    "print(\"Seq2Seq RNN:   [Loss shown; BLEU requires fine-tuning]\")\n"
   ]
  }
 ],
 "metadata": {},
 "nbformat": 4,
 "nbformat_minor": 5
}